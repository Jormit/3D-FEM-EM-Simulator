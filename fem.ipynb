{
 "cells": [
  {
   "cell_type": "code",
   "execution_count": 1,
   "metadata": {},
   "outputs": [],
   "source": [
    "import math\n",
    "import gmsh\n",
    "import numpy as np\n",
    "from scipy.sparse import lil_matrix\n",
    "from matspy import spy\n",
    "from scipy.sparse.linalg import eigs, spsolve\n",
    "import matplotlib.pyplot as plt\n",
    "from collections import defaultdict"
   ]
  },
  {
   "cell_type": "markdown",
   "metadata": {},
   "source": [
    "### Create the Mesh using GMSH"
   ]
  },
  {
   "cell_type": "code",
   "execution_count": 2,
   "metadata": {},
   "outputs": [],
   "source": [
    "# Meshing density control\n",
    "lc = 0.05\n",
    "\n",
    "gmsh.initialize()\n",
    "\n",
    "# Define rectangle surface\n",
    "gmsh.model.geo.addPoint(0, 0, 0, lc, 1)\n",
    "gmsh.model.geo.addPoint(3, 0, 0, lc, 2)\n",
    "gmsh.model.geo.addPoint(3, 0.5, 0, lc, 3)\n",
    "gmsh.model.geo.addPoint(0, 0.5, 0, lc, 4)\n",
    "gmsh.model.geo.addLine(1, 2, 1)\n",
    "gmsh.model.geo.addLine(3, 2, 2)\n",
    "gmsh.model.geo.addLine(3, 4, 3)\n",
    "gmsh.model.geo.addLine(4, 1, 4)\n",
    "gmsh.model.geo.addCurveLoop([4, 1, -2, 3], 1)\n",
    "gmsh.model.geo.addPlaneSurface([1], 1)\n",
    "\n",
    "# Extrude Rectangle\n",
    "ov2 = gmsh.model.geo.extrude([(2, 1)], 0, 0, 0.75)\n",
    "\n",
    "# Generate Mesh\n",
    "gmsh.model.geo.synchronize()\n",
    "gmsh.model.mesh.generate(3)\n",
    "\n",
    "#gmsh.fltk.run()"
   ]
  },
  {
   "cell_type": "markdown",
   "metadata": {},
   "source": [
    "### View Mesh"
   ]
  },
  {
   "cell_type": "code",
   "execution_count": 3,
   "metadata": {},
   "outputs": [],
   "source": [
    "gmsh.fltk.run()"
   ]
  },
  {
   "cell_type": "markdown",
   "metadata": {},
   "source": [
    "### Local Matrix Generation Functions"
   ]
  },
  {
   "cell_type": "markdown",
   "metadata": {},
   "source": [
    "#### 3D Case"
   ]
  },
  {
   "cell_type": "code",
   "execution_count": 4,
   "metadata": {},
   "outputs": [],
   "source": [
    "LOCAL_EDGE_NODES_3D = np.array([[1, 2],\n",
    "                                [1, 3],\n",
    "                                [1, 4],\n",
    "                                [2, 3],\n",
    "                                [2, 4],\n",
    "                                [3, 4]])\n",
    "\n",
    "\"\"\" \n",
    "Coordinates are expected in this form:\n",
    "[[x1 y1 z1],\n",
    " [x2 y2 z2],\n",
    " [x3 y3 z3],\n",
    " [x4 y4 z4]]\n",
    "\"\"\"\n",
    "\n",
    "\"\"\"\n",
    "Simplex coefficients are expected in this form:\n",
    "[[b1 c1 d1 a1],\n",
    " [b2 c2 d2 a2],\n",
    " [b3 c3 d3 a3],\n",
    " [b4 c4 d4 a4]]\n",
    "\"\"\"\n",
    "\n",
    "def get_volume(coordinates):\n",
    "    mat = np.hstack((np.ones((4, 1)), coordinates))\n",
    "    return np.abs(np.linalg.det(mat)/6)\n",
    "\n",
    "def get_simplex_coefficients_3d(coordinates):\n",
    "    mat = coordinates.T\n",
    "    mat = np.vstack([mat, [1,1,1,1]])\n",
    "    return np.linalg.inv(mat)\n",
    "\n",
    "def v_3d(i, j, simplex_coefficients):\n",
    "    return np.cross(simplex_coefficients[i-1][:3], simplex_coefficients[j-1][:3])\n",
    "\n",
    "def phi_3d(i, j, simplex_coefficients):\n",
    "    return np.dot(simplex_coefficients[i-1][:3], simplex_coefficients[j-1][:3])\n",
    "\n",
    "M_3d = np.array([[2, 1, 1, 1],\n",
    "                 [1, 2, 1, 1],\n",
    "                 [1, 1, 2, 1],\n",
    "                 [1, 1, 1, 2]]) / 20\n",
    "\n",
    "def S_and_T_3d(coordinates):\n",
    "    S = np.zeros((6,6), dtype=\"complex\")\n",
    "    T = np.zeros((6,6), dtype=\"complex\")\n",
    "    volume = get_volume(coordinates)\n",
    "    simplex_coefficients = get_simplex_coefficients_3d(coordinates)\n",
    "    for ii in range(0,6):\n",
    "        for jj in range(0,6):\n",
    "            i1 = LOCAL_EDGE_NODES_3D[ii,0];\n",
    "            i2 = LOCAL_EDGE_NODES_3D[ii,1];\n",
    "            j1 = LOCAL_EDGE_NODES_3D[jj,0];\n",
    "            j2 = LOCAL_EDGE_NODES_3D[jj,1];\n",
    "            S[ii,jj] = 4*volume*np.dot(v_3d(i1,i2, simplex_coefficients), v_3d(j1,j2, simplex_coefficients))\n",
    "            T[ii,jj] = volume*(phi_3d(i2, j2, simplex_coefficients)*M_3d[i1-1, j1-1] - \n",
    "                               phi_3d(i2, j1, simplex_coefficients)*M_3d[i1-1, j2-1] - \n",
    "                               phi_3d(i1, j2, simplex_coefficients)*M_3d[i2-1, j1-1] + \n",
    "                               phi_3d(i1, j1, simplex_coefficients)*M_3d[i2-1, j2-1])\n",
    "    return S, T\n"
   ]
  },
  {
   "cell_type": "markdown",
   "metadata": {},
   "source": [
    "#### 3D Case for Diagonally Anistropic Materials"
   ]
  },
  {
   "cell_type": "code",
   "execution_count": 5,
   "metadata": {},
   "outputs": [],
   "source": [
    "def phi_3d_Diag_Anistropic(i, j, simplex_coefficients, vec):\n",
    "    return np.dot(simplex_coefficients[i-1][:3], vec*simplex_coefficients[j-1][:3])\n",
    "\n",
    "def S_and_T_3d_Diag_Anistropic(coordinates, s_vec, t_vec):\n",
    "    S = np.zeros((6,6), dtype=\"complex\")\n",
    "    T = np.zeros((6,6), dtype=\"complex\")\n",
    "    volume = get_volume(coordinates)\n",
    "    simplex_coefficients = get_simplex_coefficients_3d(coordinates)\n",
    "    for ii in range(0,6):\n",
    "        for jj in range(0,6):\n",
    "            i1 = LOCAL_EDGE_NODES_3D[ii,0];\n",
    "            i2 = LOCAL_EDGE_NODES_3D[ii,1];\n",
    "            j1 = LOCAL_EDGE_NODES_3D[jj,0];\n",
    "            j2 = LOCAL_EDGE_NODES_3D[jj,1];\n",
    "            S[ii,jj] = 4*volume*np.dot(v_3d(i1,i2, simplex_coefficients), s_vec*v_3d(j1,j2, simplex_coefficients))\n",
    "            T[ii,jj] = volume*(phi_3d_Diag_Anistropic(i2, j2, simplex_coefficients, t_vec)*M_3d[i1-1, j1-1] - \n",
    "                               phi_3d_Diag_Anistropic(i2, j1, simplex_coefficients, t_vec)*M_3d[i1-1, j2-1] - \n",
    "                               phi_3d_Diag_Anistropic(i1, j2, simplex_coefficients, t_vec)*M_3d[i2-1, j1-1] + \n",
    "                               phi_3d_Diag_Anistropic(i1, j1, simplex_coefficients, t_vec)*M_3d[i2-1, j2-1])\n",
    "    return S, T"
   ]
  },
  {
   "cell_type": "markdown",
   "metadata": {},
   "source": [
    "#### 2D Case"
   ]
  },
  {
   "cell_type": "code",
   "execution_count": 6,
   "metadata": {},
   "outputs": [],
   "source": [
    "LOCAL_EDGE_NODES_2D = np.array([[1, 2],\n",
    "                                [1, 3],\n",
    "                                [2, 3]])\n",
    "\n",
    "\"\"\" \n",
    "Coordinates are expected in this form:\n",
    "[[x1 y1],\n",
    " [x2 y2],\n",
    " [x3 y3]]\n",
    "\"\"\"\n",
    "\n",
    "\"\"\"\n",
    "Simplex coefficients are expected in this form:\n",
    "[[b1 c1 a1],\n",
    " [b2 c2 a2],\n",
    " [b3 c3 a3]]\n",
    "\"\"\"\n",
    "\n",
    "def get_area(coordinates):\n",
    "    mat = np.hstack((np.ones((3, 1)), coordinates))\n",
    "    return np.abs(np.linalg.det(mat)/2)\n",
    "\n",
    "def get_simplex_coefficients_2d(coordinates):\n",
    "    mat = coordinates.T\n",
    "    mat = np.vstack([mat, [1,1,1]])\n",
    "    return np.linalg.inv(mat)\n",
    "\n",
    "def v_2d(i, j, simplex_coefficients):\n",
    "    b_i = simplex_coefficients[i-1][0]\n",
    "    b_j = simplex_coefficients[j-1][0]\n",
    "    c_i = simplex_coefficients[i-1][1]\n",
    "    c_j = simplex_coefficients[j-1][1]\n",
    "    return b_i*c_j - b_j*c_i\n",
    "\n",
    "def phi_2d(i, j, simplex_coefficients):\n",
    "    return np.dot(simplex_coefficients[i-1][:2], simplex_coefficients[j-1][:2])\n",
    "\n",
    "M = np.array([[2, 1, 1],\n",
    "              [1, 2, 1],\n",
    "              [1, 1, 2]]) / 12\n",
    "\n",
    "def S_and_T_2d(coordinates):\n",
    "    S = np.zeros((3,3), dtype=\"complex\")\n",
    "    T = np.zeros((3,3), dtype=\"complex\")\n",
    "    area = get_area(coordinates)\n",
    "    simplex_coefficients = get_simplex_coefficients_2d(coordinates)\n",
    "    for ii in range(0,3):\n",
    "        for jj in range(0,3):\n",
    "            i1 = LOCAL_EDGE_NODES_2D[ii,0];\n",
    "            i2 = LOCAL_EDGE_NODES_2D[ii,1];\n",
    "            j1 = LOCAL_EDGE_NODES_2D[jj,0];\n",
    "            j2 = LOCAL_EDGE_NODES_2D[jj,1];\n",
    "            S[ii,jj] = 4*area*v_2d(i1,i2, simplex_coefficients)*v_2d(j1,j2, simplex_coefficients)\n",
    "            T[ii,jj] = area*(phi_2d(i2, j2, simplex_coefficients)*M[i1-1, j1-1] - \n",
    "                             phi_2d(i2, j1, simplex_coefficients)*M[i1-1, j2-1] - \n",
    "                             phi_2d(i1, j2, simplex_coefficients)*M[i2-1, j1-1] + \n",
    "                             phi_2d(i1, j1, simplex_coefficients)*M[i2-1, j2-1])\n",
    "    return S, T\n"
   ]
  },
  {
   "cell_type": "markdown",
   "metadata": {},
   "source": [
    "#### PML Coefficients"
   ]
  },
  {
   "cell_type": "markdown",
   "metadata": {},
   "source": [
    "Generates anistropic permitivity and permeability elements of a perfectly matched layer. From _\"A Perfectly Matched Anisotropic Absorber \n",
    "for Use as an Absorbing Boundary Condition\"_ by Zachary S. Sacks, David M. Kingsland, Robert Lee, and Jin-Fa Lee"
   ]
  },
  {
   "cell_type": "code",
   "execution_count": 7,
   "metadata": {},
   "outputs": [],
   "source": [
    "def PML(alpha, beta, incident_axis):\n",
    "    P = (alpha - 1j*beta) * np.ones((3), dtype=\"complex\")\n",
    "    P[incident_axis] = (alpha + 1j*beta) / (alpha**2 + beta**2)\n",
    "    return P"
   ]
  },
  {
   "cell_type": "markdown",
   "metadata": {},
   "source": [
    "### Plotting Functions"
   ]
  },
  {
   "cell_type": "markdown",
   "metadata": {},
   "source": [
    "### Peform Mesh Bookeeping"
   ]
  },
  {
   "cell_type": "code",
   "execution_count": 8,
   "metadata": {},
   "outputs": [],
   "source": [
    "def create_lookup_table(nodeTags):\n",
    "    nodeTagsMap = -1 * np.ones(nodeTags.max(), dtype=\"int\")\n",
    "    for i, node in enumerate(nodeTags):\n",
    "        nodeTagsMap[int(node-1)] = i\n",
    "    return nodeTagsMap"
   ]
  },
  {
   "cell_type": "code",
   "execution_count": 9,
   "metadata": {},
   "outputs": [],
   "source": [
    "nodeTags, nodeCoords, _ = gmsh.model.mesh.getNodes(dim=3, includeBoundary=True)\n",
    "elemTypes, elemTags, elemNodeTags = gmsh.model.mesh.getElements(3)\n",
    "gmsh.model.mesh.createEdges()\n",
    "edgeTags, _ = gmsh.model.mesh.getAllEdges()\n",
    "elemTags = elemTags[0]\n",
    "num_edges = len(edgeTags)\n",
    "\n",
    "# Reshape coordinates and node tags.\n",
    "nodeCoords = np.reshape(nodeCoords, (-1, 3))\n",
    "elemNodeTags = np.reshape(elemNodeTags, (-1, 4))\n",
    "\n",
    "elemNodeTags.sort(axis=1)\n",
    "\n",
    "# Create a datastructure to lookup index of a given node.\n",
    "nodeTagsMap = create_lookup_table(nodeTags)\n",
    "elemTagsMap = create_lookup_table(elemTags)"
   ]
  },
  {
   "cell_type": "markdown",
   "metadata": {},
   "source": [
    "### Misc Helper Functions"
   ]
  },
  {
   "cell_type": "code",
   "execution_count": 10,
   "metadata": {},
   "outputs": [],
   "source": [
    "def get_global_edge_2d(j, nodes):\n",
    "    local_edge_nodes_j = LOCAL_EDGE_NODES_2D[j];\n",
    "    global_edge_nodes_j = nodes[local_edge_nodes_j-1]\n",
    "    jj, _ = gmsh.model.mesh.getEdges(global_edge_nodes_j)\n",
    "    jj = int(jj[0])\n",
    "\n",
    "    return jj, global_edge_nodes_j"
   ]
  },
  {
   "cell_type": "code",
   "execution_count": 11,
   "metadata": {},
   "outputs": [],
   "source": [
    "def get_global_edge_3d(j, nodes):\n",
    "    local_edge_nodes_j = LOCAL_EDGE_NODES_3D[j];\n",
    "    global_edge_nodes_j = nodes[local_edge_nodes_j-1]\n",
    "    jj, _ = gmsh.model.mesh.getEdges(global_edge_nodes_j)\n",
    "    jj = int(jj[0])\n",
    "\n",
    "    return jj, global_edge_nodes_j"
   ]
  },
  {
   "cell_type": "code",
   "execution_count": 12,
   "metadata": {},
   "outputs": [],
   "source": [
    "def get_elem_coords_2d(nodes, nodeTagsMap, nodeCoords):\n",
    "    coords = np.zeros((3,3))\n",
    "    for i, node in enumerate(nodes):\n",
    "        node_index = int(nodeTagsMap[int(node-1)])\n",
    "        coords[i] = nodeCoords[node_index]\n",
    "\n",
    "    return coords"
   ]
  },
  {
   "cell_type": "code",
   "execution_count": 13,
   "metadata": {},
   "outputs": [],
   "source": [
    "def get_elem_coords_3d(nodes, nodeTagsMap, nodeCoords):\n",
    "    coords = np.zeros((4,3))\n",
    "    for i, node in enumerate(nodes):\n",
    "        node_index = int(nodeTagsMap[int(node-1)])\n",
    "        coords[i] = nodeCoords[node_index]\n",
    "\n",
    "    return coords"
   ]
  },
  {
   "cell_type": "markdown",
   "metadata": {},
   "source": [
    "### Plotting Functions"
   ]
  },
  {
   "cell_type": "code",
   "execution_count": 14,
   "metadata": {},
   "outputs": [],
   "source": [
    "''''\n",
    "simplex_coords form:\n",
    "[lambda_1, lambda_2, lambda_3, lambda_4]\n",
    "'''\n",
    "def witney(i, j, simplex_coeff, simplex_coords):\n",
    "    return simplex_coords[i-1]*simplex_coeff[j-1][:3] - simplex_coords[j-1]*simplex_coeff[i-1][:3]\n",
    "\n",
    "def eval_vec(x, y, z, nodeTagsMap, elemNodeTags, nodeCoords, data, edge_map, edge_include_mask, edge_exclude_mask):\n",
    "    elementTag, _, _, _, _, _ = gmsh.model.mesh.getElementByCoordinates(x, y, z, 3, strict=True)\n",
    "    nodes = elemNodeTags[elemTagsMap[int(elementTag-1)]]\n",
    "    coords = get_elem_coords_3d(nodes, nodeTagsMap, nodeCoords)\n",
    "    simplex_coeff = get_simplex_coefficients_3d(coords)\n",
    "\n",
    "    simplex_coords = simplex_coeff @ np.array([x,y,z,1])\n",
    "    \n",
    "    result = np.zeros(3, dtype=\"complex\")\n",
    "    for j in range(0,6):\n",
    "        edge_nodes = LOCAL_EDGE_NODES_3D[j]\n",
    "        jj, _ = get_global_edge_3d(j, nodes)\n",
    "        is_j_excluded = edge_exclude_mask[jj - 1]\n",
    "        is_j_included = edge_include_mask[jj - 1]\n",
    "        if is_j_excluded:\n",
    "            continue\n",
    "        if not is_j_included:\n",
    "            continue\n",
    "        jj = edge_map[jj - 1]\n",
    "        result = result + data[jj] * witney(edge_nodes[0], edge_nodes[1], simplex_coeff, simplex_coords)\n",
    "        \n",
    "    return result\n",
    "\n",
    "'''\n",
    "axes: (\"XY\")\n",
    "steps: (20, 20)\n",
    "span: ((0,1), (0,0.5))\n",
    "level: 0.3\n",
    "'''\n",
    "def eval_vector_plane(axes, steps, span, level, data, edge_map, nodeTagsMap, elemNodeTags, nodeCoords, edge_include_mask, edge_exclude_mask):\n",
    "\n",
    "    results = np.zeros((steps[0], steps[1], 3),dtype=\"complex\")\n",
    "\n",
    "    X = np.zeros((steps[0] * steps[1]))\n",
    "    Y = np.zeros((steps[0] * steps[1]))\n",
    "    U = np.zeros((steps[0] * steps[1]), dtype=\"complex\")\n",
    "    V = np.zeros((steps[0] * steps[1]), dtype=\"complex\")\n",
    "\n",
    "    for i, x in enumerate(np.linspace(span[0][0], span[0][1], steps[0])):\n",
    "        for j, y in enumerate(np.linspace(span[1][0], span[1][1], steps[1])):\n",
    "            if axes == \"XY\":\n",
    "                results[i, j] = eval_vec(x, y, level, nodeTagsMap, elemNodeTags, nodeCoords, data, edge_map, edge_include_mask, edge_exclude_mask)\n",
    "            elif axes == \"XZ\":\n",
    "                results[i, j] = eval_vec(x, level, y, nodeTagsMap, elemNodeTags, nodeCoords, data, edge_map, edge_include_mask, edge_exclude_mask)\n",
    "            elif axes == \"YX\":\n",
    "                results[i, j] = eval_vec(y, x, level, nodeTagsMap, elemNodeTags, nodeCoords, data, edge_map, edge_include_mask, edge_exclude_mask)\n",
    "            elif axes == \"YZ\":\n",
    "                results[i, j] = eval_vec(level, x, y, nodeTagsMap, elemNodeTags, nodeCoords, data, edge_map, edge_include_mask, edge_exclude_mask)\n",
    "            elif axes == \"ZX\":\n",
    "                results[i, j] = eval_vec(y, level, x, nodeTagsMap, elemNodeTags, nodeCoords, data, edge_map, edge_include_mask, edge_exclude_mask)\n",
    "            elif axes == \"ZY\":\n",
    "                results[i, j] = eval_vec(level, y, x, nodeTagsMap, elemNodeTags, nodeCoords, data, edge_map, edge_include_mask, edge_exclude_mask)\n",
    "            else:\n",
    "                print(\"Invalid Axes\")\n",
    "                exit(1)\n",
    "             \n",
    "            X[i + steps[1]*j] = x\n",
    "            Y[i + steps[1]*j] = y\n",
    "\n",
    "            if axes == \"XY\":\n",
    "                U[i + steps[1]*j] = results[i, j][0]\n",
    "                V[i + steps[1]*j] = results[i, j][1]\n",
    "            elif axes == \"XZ\":\n",
    "                U[i + steps[1]*j] = results[i, j][0]\n",
    "                V[i + steps[1]*j] = results[i, j][2]\n",
    "            elif axes == \"YX\":\n",
    "                U[i + steps[1]*j] = results[i, j][1]\n",
    "                V[i + steps[1]*j] = results[i, j][0]\n",
    "            elif axes == \"YZ\":\n",
    "                U[i + steps[1]*j] = results[i, j][1]\n",
    "                V[i + steps[1]*j] = results[i, j][2]\n",
    "            elif axes == \"ZX\":\n",
    "                U[i + steps[1]*j] = results[i, j][2]\n",
    "                V[i + steps[1]*j] = results[i, j][0]\n",
    "            elif axes == \"ZY\":\n",
    "                U[i + steps[1]*j] = results[i, j][2]\n",
    "                V[i + steps[1]*j] = results[i, j][1]            \n",
    "\n",
    "    return X, Y, U, V"
   ]
  },
  {
   "cell_type": "markdown",
   "metadata": {},
   "source": [
    "### Solve Port Eigenfunctions"
   ]
  },
  {
   "cell_type": "markdown",
   "metadata": {},
   "source": [
    "#### Find Elements on Port and Boundary"
   ]
  },
  {
   "cell_type": "markdown",
   "metadata": {},
   "source": [
    "Port is on face where x=0"
   ]
  },
  {
   "cell_type": "code",
   "execution_count": 15,
   "metadata": {},
   "outputs": [],
   "source": [
    "def both_nodes_are_port(nodes, nodeTagsMap, nodeCoords, tol=1e-3):\n",
    "    node1_index = int(nodeTagsMap[int(nodes[0]-1)])\n",
    "    node2_index = int(nodeTagsMap[int(nodes[1]-1)])\n",
    "\n",
    "    coord1 = nodeCoords[node1_index]\n",
    "    coord2 = nodeCoords[node2_index]\n",
    "\n",
    "    if math.isclose(coord1[0], 0.0, abs_tol=tol) and math.isclose(coord2[0], 0.0, abs_tol=tol):\n",
    "        return True\n",
    "\n",
    "    return False        "
   ]
  },
  {
   "cell_type": "markdown",
   "metadata": {},
   "source": [
    "Boundary is on edge of port"
   ]
  },
  {
   "cell_type": "code",
   "execution_count": 16,
   "metadata": {},
   "outputs": [],
   "source": [
    "def both_nodes_are_port_boundary(nodes, nodeTagsMap, nodeCoords, tol=1e-3):\n",
    "    node1_index = int(nodeTagsMap[int(nodes[0]-1)])\n",
    "    node2_index = int(nodeTagsMap[int(nodes[1]-1)])\n",
    "\n",
    "    coord1 = nodeCoords[node1_index]\n",
    "    coord2 = nodeCoords[node2_index]\n",
    "    \n",
    "    if math.isclose(coord1[1], 0.0, abs_tol=tol) and math.isclose(coord2[1], 0.0, abs_tol=tol):\n",
    "        return True\n",
    "    if math.isclose(coord1[1], 0.5, abs_tol=tol) and math.isclose(coord2[1], 0.5, abs_tol=tol):\n",
    "        return True\n",
    "    if math.isclose(coord1[2], 0.0, abs_tol=tol) and math.isclose(coord2[2], 0.0, abs_tol=tol):\n",
    "        return True\n",
    "    if math.isclose(coord1[2], 0.75, abs_tol=tol) and math.isclose(coord2[2], 0.75, abs_tol=tol):\n",
    "        return True"
   ]
  },
  {
   "cell_type": "markdown",
   "metadata": {},
   "source": [
    "Find the elements"
   ]
  },
  {
   "cell_type": "code",
   "execution_count": 17,
   "metadata": {},
   "outputs": [],
   "source": [
    "edge_is_port = np.zeros(num_edges, dtype='bool')\n",
    "edge_is_port_boundary = np.zeros(num_edges, dtype='bool')\n",
    "port_elements = defaultdict(set)\n",
    "\n",
    "for e, (elem, nodes) in enumerate(zip(elemTags, elemNodeTags)):\n",
    "    coords = get_elem_coords_3d(nodes, nodeTagsMap, nodeCoords)\n",
    "\n",
    "    for j in range(0,6):\n",
    "        jj, global_edge_nodes_j = get_global_edge_3d(j, nodes)\n",
    "        edge_is_port[jj - 1] = both_nodes_are_port(global_edge_nodes_j, nodeTagsMap, nodeCoords)        \n",
    "        if (edge_is_port[jj - 1]):\n",
    "            edge_is_port_boundary[jj - 1] = both_nodes_are_port_boundary(global_edge_nodes_j, nodeTagsMap, nodeCoords)\n",
    "            port_elements[e].add(global_edge_nodes_j[0])\n",
    "            port_elements[e].add(global_edge_nodes_j[1])\n",
    "\n",
    "non_boundary_port_edges = edge_is_port.sum() - edge_is_port_boundary.sum()\n",
    "\n",
    "modified_edge_port_map = -1 * np.ones(num_edges, dtype=\"int\")\n",
    "i = 0\n",
    "for edge, (is_port_boundary, is_port) in enumerate(zip(edge_is_port_boundary, edge_is_port)):\n",
    "    if not is_port_boundary and is_port:\n",
    "        modified_edge_port_map[edge] = i\n",
    "        i+=1"
   ]
  },
  {
   "cell_type": "markdown",
   "metadata": {},
   "source": [
    "#### Assemble Port Matrix"
   ]
  },
  {
   "cell_type": "code",
   "execution_count": 18,
   "metadata": {},
   "outputs": [],
   "source": [
    "# Loop through each element.\n",
    "S = lil_matrix((non_boundary_port_edges,non_boundary_port_edges), dtype=\"complex\")\n",
    "T = lil_matrix((non_boundary_port_edges,non_boundary_port_edges), dtype=\"complex\")\n",
    "for elem, nodes in port_elements.items():\n",
    "    nodes = list(nodes)\n",
    "    nodes.sort()\n",
    "    nodes = np.array(nodes)\n",
    "    if (len(nodes) != 3):\n",
    "        continue\n",
    "\n",
    "    # Get coordinates in required form\n",
    "    coords = get_elem_coords_2d(nodes, nodeTagsMap, nodeCoords)    \n",
    "    coords = coords[:,1:]\n",
    "    \n",
    "    # Get local S and T matrices\n",
    "    S_elem, T_elem = S_and_T_2d(coords)\n",
    "\n",
    "    # Place local matrix elements in global matrix\n",
    "    for j in range(0,3):\n",
    "        jj, _ = get_global_edge_2d(j, nodes)\n",
    "        is_j_boundary = edge_is_port_boundary[jj - 1]\n",
    "        jj = modified_edge_port_map[jj - 1]\n",
    "        \n",
    "        for k in range(0,3):\n",
    "            kk, _ = get_global_edge_2d(k, nodes)\n",
    "            is_k_boundary = edge_is_port_boundary[kk - 1]\n",
    "            kk = modified_edge_port_map[kk - 1]\n",
    "\n",
    "            if not is_j_boundary and not is_k_boundary:\n",
    "                \n",
    "                S[jj, kk] = S[jj, kk] + S_elem[j, k]\n",
    "                T[jj, kk] = T[jj, kk] + T_elem[j, k]\n",
    "\n",
    "S = S.tocsr()\n",
    "T = T.tocsr()"
   ]
  },
  {
   "cell_type": "markdown",
   "metadata": {},
   "source": [
    "#### Inspect Structure of Port FEM Matrix"
   ]
  },
  {
   "cell_type": "code",
   "execution_count": 19,
   "metadata": {},
   "outputs": [
    {
     "data": {
      "image/png": "[encoded data removed]",
      "text/plain": [
       "<Figure size 375.529x374.835 with 1 Axes>"
      ]
     },
     "metadata": {},
     "output_type": "display_data"
    }
   ],
   "source": [
    "spy(S)"
   ]
  },
  {
   "cell_type": "markdown",
   "metadata": {},
   "source": [
    "### Solve"
   ]
  },
  {
   "cell_type": "code",
   "execution_count": 20,
   "metadata": {},
   "outputs": [
    {
     "name": "stdout",
     "output_type": "stream",
     "text": [
      "[7.55164144e+00-5.96084919e-16j 6.28345511e+00-1.64224549e-16j\n",
      " 8.37845742e+00+4.87754028e-16j 4.18898591e+00-3.15766742e-16j\n",
      " 1.26724585e-06-9.24387515e-09j 1.07654539e-06-2.76643098e-08j\n",
      " 1.01869078e-06+1.83989294e-08j 8.98895941e-07-1.10480990e-07j\n",
      " 9.27492392e-07-2.20323963e-08j 9.14784234e-07+7.41295715e-08j]\n",
      "(527, 10)\n"
     ]
    }
   ],
   "source": [
    "mu_r = 1\n",
    "e_r = 1\n",
    "\n",
    "w, v = eigs(S / mu_r, k=10, M=e_r * T, sigma=49)\n",
    "\n",
    "print(np.sqrt(w))\n",
    "print(v.shape)"
   ]
  },
  {
   "cell_type": "markdown",
   "metadata": {},
   "source": [
    "#### Plot Port Excitation"
   ]
  },
  {
   "cell_type": "code",
   "execution_count": 21,
   "metadata": {},
   "outputs": [
    {
     "data": {
      "text/plain": [
       "Text(0, 0.5, 'Z')"
      ]
     },
     "execution_count": 21,
     "metadata": {},
     "output_type": "execute_result"
    },
    {
     "data": {
      "image/png": "[encoded data removed]",
      "text/plain": [
       "<Figure size 640x480 with 1 Axes>"
      ]
     },
     "metadata": {},
     "output_type": "display_data"
    }
   ],
   "source": [
    "excitation_i = 3\n",
    "excitation_vec = v[:,excitation_i]\n",
    "excitation_k_2 = w[excitation_i]\n",
    "\n",
    "X, Y, U, V = eval_vector_plane(\"YZ\", (20,20), ((0, 0.5), (0, 0.75)), 0, excitation_vec, modified_edge_port_map, nodeTagsMap, elemNodeTags, nodeCoords, edge_is_port, edge_is_port_boundary)\n",
    "\n",
    "plt.figure()\n",
    "plt.quiver(X,Y,np.real(U),np.real(V))\n",
    "plt.title(\"Port E Field Vectors\")\n",
    "plt.xlabel(\"Y\")\n",
    "plt.ylabel(\"Z\")"
   ]
  },
  {
   "cell_type": "markdown",
   "metadata": {},
   "source": [
    "### Solve Full Problem"
   ]
  },
  {
   "cell_type": "markdown",
   "metadata": {},
   "source": [
    "Outside of box is boundary"
   ]
  },
  {
   "cell_type": "code",
   "execution_count": 22,
   "metadata": {},
   "outputs": [],
   "source": [
    "def both_nodes_are_boundary(nodes, nodeTagsMap, nodeCoords, tol=1e-3):\n",
    "    node1_index = int(nodeTagsMap[int(nodes[0]-1)])\n",
    "    node2_index = int(nodeTagsMap[int(nodes[1]-1)])\n",
    "\n",
    "    coord1 = nodeCoords[node1_index]\n",
    "    coord2 = nodeCoords[node2_index]\n",
    "\n",
    "    if math.isclose(coord1[0], 0.0, abs_tol=tol) and math.isclose(coord2[0], 0.0, abs_tol=tol):\n",
    "        return True\n",
    "    if math.isclose(coord1[0], 1.0, abs_tol=tol) and math.isclose(coord2[0], 1.0, abs_tol=tol):\n",
    "        return True\n",
    "    if math.isclose(coord1[1], 0.0, abs_tol=tol) and math.isclose(coord2[1], 0.0, abs_tol=tol):\n",
    "        return True\n",
    "    if math.isclose(coord1[1], 0.5, abs_tol=tol) and math.isclose(coord2[1], 0.5, abs_tol=tol):\n",
    "        return True\n",
    "    if math.isclose(coord1[2], 0.0, abs_tol=tol) and math.isclose(coord2[2], 0.0, abs_tol=tol):\n",
    "        return True\n",
    "    if math.isclose(coord1[2], 0.75, abs_tol=tol) and math.isclose(coord2[2], 0.75, abs_tol=tol):\n",
    "        return True\n",
    "    \n",
    "    return False"
   ]
  },
  {
   "cell_type": "markdown",
   "metadata": {},
   "source": [
    "Find boundary edges"
   ]
  },
  {
   "cell_type": "code",
   "execution_count": 23,
   "metadata": {},
   "outputs": [],
   "source": [
    "edge_is_boundary = np.zeros(num_edges, dtype='bool')\n",
    "\n",
    "for e, (elem, nodes) in enumerate(zip(elemTags, elemNodeTags)):\n",
    "    # Get coordinates in required form\n",
    "    coords = get_elem_coords_3d(nodes, nodeTagsMap, nodeCoords)\n",
    "\n",
    "    for j in range(0,6):\n",
    "        jj, global_edge_nodes_j = get_global_edge_3d(j, nodes)\n",
    "        edge_is_boundary[jj - 1] = both_nodes_are_boundary(global_edge_nodes_j, nodeTagsMap, nodeCoords)\n",
    "\n",
    "non_boundary_edges = num_edges - edge_is_boundary.sum()\n",
    "\n",
    "modified_edge_map = -1 * np.ones(num_edges, dtype=\"int\")\n",
    "i = 0\n",
    "for edge, is_boundary in enumerate(edge_is_boundary):\n",
    "    if not is_boundary:\n",
    "        modified_edge_map[edge] = i\n",
    "        i+=1"
   ]
  },
  {
   "cell_type": "markdown",
   "metadata": {},
   "source": [
    "Define PML region and attenuation gradient"
   ]
  },
  {
   "cell_type": "code",
   "execution_count": 38,
   "metadata": {},
   "outputs": [],
   "source": [
    "def PML_Region(x):\n",
    "    alpha = 0\n",
    "    if (x >= 2):\n",
    "        alpha = np.exp(10*(x-2))\n",
    "        return True, alpha\n",
    "    return False, alpha"
   ]
  },
  {
   "cell_type": "markdown",
   "metadata": {},
   "source": [
    "#### Assemble Full Matrix"
   ]
  },
  {
   "cell_type": "code",
   "execution_count": 39,
   "metadata": {},
   "outputs": [],
   "source": [
    "# Loop through each element.\n",
    "S = lil_matrix((non_boundary_edges,non_boundary_edges), dtype=\"complex\")\n",
    "T = lil_matrix((non_boundary_edges,non_boundary_edges), dtype=\"complex\")\n",
    "b = np.zeros(non_boundary_edges, dtype=\"complex\")\n",
    "\n",
    "for elem, nodes in zip(elemTags, elemNodeTags):\n",
    "    # Get coordinates in required form\n",
    "    coords = get_elem_coords_3d(nodes, nodeTagsMap, nodeCoords)\n",
    "\n",
    "    # Enforce PML if necessary\n",
    "    centroid = np.mean(coords, axis=0)\n",
    "    is_pml, alpha = PML_Region(centroid[0])\n",
    "\n",
    "    # Get local S and T matrices\n",
    "    if (is_pml):\n",
    "        pml = PML(alpha, 5.5, 0)\n",
    "        S_elem, T_elem = S_and_T_3d_Diag_Anistropic(coords, 1/pml, pml)\n",
    "    else:\n",
    "        S_elem, T_elem = S_and_T_3d(coords)\n",
    "\n",
    "    # Place local matrix elements in global matrix\n",
    "    for j in range(0,6):\n",
    "        jj, _ = get_global_edge_3d(j, nodes)\n",
    "        is_j_boundary = edge_is_boundary[jj - 1]\n",
    "        is_j_port = edge_is_port[jj - 1]\n",
    "        jj = modified_edge_map[jj - 1]\n",
    "        \n",
    "        for k in range(0,6):\n",
    "            kk, _ = get_global_edge_3d(k, nodes)\n",
    "            is_k_boundary = edge_is_boundary[kk - 1]\n",
    "            is_k_port = edge_is_port[kk - 1]\n",
    "            kk_save = kk\n",
    "            kk = modified_edge_map[kk - 1]\n",
    "\n",
    "            if not is_j_boundary and not is_k_boundary:                                \n",
    "                S[jj, kk] = S[jj, kk] + S_elem[j, k]\n",
    "                T[jj, kk] = T[jj, kk] + T_elem[j, k]\n",
    "\n",
    "            elif not is_j_boundary and is_k_port:\n",
    "                amplitude = excitation_vec[modified_edge_port_map[kk_save - 1]]\n",
    "                b[jj] -= amplitude * S_elem[j, k]\n",
    "\n",
    "S = S.tocsr()\n",
    "T = T.tocsr()"
   ]
  },
  {
   "cell_type": "markdown",
   "metadata": {},
   "source": [
    "#### Solve"
   ]
  },
  {
   "cell_type": "code",
   "execution_count": 40,
   "metadata": {},
   "outputs": [],
   "source": [
    "k0 = 5.5\n",
    "sol = spsolve(S / mu_r - k0**2 * e_r * T, b)"
   ]
  },
  {
   "cell_type": "markdown",
   "metadata": {},
   "source": [
    "#### Plot Result"
   ]
  },
  {
   "cell_type": "code",
   "execution_count": 42,
   "metadata": {},
   "outputs": [
    {
     "data": {
      "text/plain": [
       "Text(0, 0.5, 'Y')"
      ]
     },
     "execution_count": 42,
     "metadata": {},
     "output_type": "execute_result"
    },
    {
     "data": {
      "image/png": "[encoded data removed]",
      "text/plain": [
       "<Figure size 640x480 with 1 Axes>"
      ]
     },
     "metadata": {},
     "output_type": "display_data"
    }
   ],
   "source": [
    "X, Y, U, V = eval_vector_plane(\"XY\", (20,20), ((0, 3), (0, 0.5)), 0.35, sol, modified_edge_map, nodeTagsMap, elemNodeTags, nodeCoords, np.ones(num_edges, dtype=\"bool\"), edge_is_boundary)\n",
    "plt.figure()\n",
    "plt.quiver(X,Y,np.real(U),np.real(V))\n",
    "plt.title(\"Port E Field Vectors\")\n",
    "plt.xlabel(\"X\")\n",
    "plt.ylabel(\"Y\")"
   ]
  },
  {
   "cell_type": "code",
   "execution_count": 28,
   "metadata": {},
   "outputs": [],
   "source": [
    "#gmsh.finalize()"
   ]
  }
 ],
 "metadata": {
  "kernelspec": {
   "display_name": "base",
   "language": "python",
   "name": "python3"
  },
  "language_info": {
   "codemirror_mode": {
    "name": "ipython",
    "version": 3
   },
   "file_extension": ".py",
   "mimetype": "text/x-python",
   "name": "python",
   "nbconvert_exporter": "python",
   "pygments_lexer": "ipython3",
   "version": "3.9.17"
  }
 },
 "nbformat": 4,
 "nbformat_minor": 2
}
